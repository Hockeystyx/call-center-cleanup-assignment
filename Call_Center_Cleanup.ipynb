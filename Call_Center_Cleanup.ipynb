{
 "cells": [
  {
   "cell_type": "markdown",
   "id": "331a1c4f",
   "metadata": {},
   "source": [
    "# Call Center Cleanup\n",
    "\n",
    "For this assignment, we will be working with call center data. You can start working on the assignment after the first lesson on Exploratory Data Analysis. Make sure to read the whole assignment before starting anything! As you code along in the Jupyter notebook, you are asked to make note of the results of your analysis. Do so by clicking on the results box and adding your notes beside each question.\n",
    "\n",
    "## Business Issue and Understanding\n",
    "\n",
    "You are working for a company that has two call centers: the North Call Center and the South Call Center. The company is looking to possibly hire five additional reps to enhance customer experience. Your task is to explore how efficient the current reps are in each branch to determine which branch would benefit from additional assistance.\n",
    "\n",
    "### How the Call Center Works\n",
    "\n",
    "Call center representatives are assigned queues. When calls are assigned to a queue, the call is assigned to the next person in line in the queue. After a call is assigned to a representative, the amount of time between assignment and the call starting is divided into busy minutes and not ready minutes. If the call is incoming and a customer is waiting on the phone for a rep, the time is split into three categories: busy minutes, not ready minutes, and incoming call wait time. Once the rep has the customer on the phone, there might be during call wait time, where the call is put on hold while the rep gets an answer for the customer.\n",
    "\n",
    "### Notes about the Dataset\n",
    "\n",
    "If you haven't worked in a call center before, these notes might help you throughout your analysis.\n",
    "\n",
    "* The call purpose is tagged for each call.\n",
    "* The time of the call is tagged in 1 hour blocks starting at 9:00 AM and ending at 5:00 PM.\n",
    "* Calls are tagged as incoming or outgoing.\n",
    "* Reps are assigned to queues. When the reps are working, they take calls in the order of their queue.\n",
    "* A call that is dropped due to technical error or missed by the center because they have reached maximum capacity is a lost call.\n",
    "* An abandoned call is when the customer hangs up because they have been waiting for too long.\n",
    "* Busy Minutes: the amount of time after a call comes in or needs to go out where the assigned rep is not available because they are busy with other customers.\n",
    "* Not Ready Minutes: the amount of time after a call comes in or needs to go out where the assigned rep is not available because they are not ready (for example, getting water).\n",
    "* Incoming Wait Time - amount of time after assigned rep is available to take the call customer waits for representative to pick up a call. This is tracked in seconds.\n",
    "* During Call Wait Time - amount of time during call that customer has to wait for representative\n",
    "\n",
    "## Getting Started\n",
    "\n",
    "You have two CSVs at your disposal, `NorthCallCenter.csv` and `SouthCallCenter.csv`. Import the appropriate libraries and create two dataframes, one called `north_df` and one called `south_df`."
   ]
  },
  {
   "cell_type": "code",
   "execution_count": 136,
   "id": "f362436b",
   "metadata": {},
   "outputs": [],
   "source": [
    "# Import the appropriate libraries with aliases\n",
    "import pandas as pd\n",
    "import numpy as np\n",
    "import matplotlib.pyplot as plt\n",
    "\n",
    "# Create two new dataframes\n",
    "north_df = pd.read_csv('NorthCallCenter.csv', index_col=[0])\n",
    "south_df = pd.read_csv('SouthCallCenter.csv', index_col=[0])\n"
   ]
  },
  {
   "cell_type": "markdown",
   "id": "37f77cd4",
   "metadata": {},
   "source": [
    "<span style=\"background-color:orangered; color:orangered;\">- - - - - - - - - - - - - - - - - - - - - - - - - - - - - - - - - - - - - - - - - - - - - - - - - - - - - - - - - - - - - - - - - - - - - - - - - - - - - - - - - - - - - - - - -</span>"
   ]
  },
  {
   "cell_type": "code",
   "execution_count": 137,
   "id": "f7593b8a",
   "metadata": {},
   "outputs": [
    {
     "data": {
      "text/html": [
       "<div>\n",
       "<style scoped>\n",
       "    .dataframe tbody tr th:only-of-type {\n",
       "        vertical-align: middle;\n",
       "    }\n",
       "\n",
       "    .dataframe tbody tr th {\n",
       "        vertical-align: top;\n",
       "    }\n",
       "\n",
       "    .dataframe thead th {\n",
       "        text-align: right;\n",
       "    }\n",
       "</style>\n",
       "<table border=\"1\" class=\"dataframe\">\n",
       "  <thead>\n",
       "    <tr style=\"text-align: right;\">\n",
       "      <th></th>\n",
       "      <th>Branch</th>\n",
       "      <th>Call Purpose</th>\n",
       "      <th>Time Block</th>\n",
       "      <th>Incoming or Outgoing</th>\n",
       "      <th>Queue</th>\n",
       "      <th>Rep ID</th>\n",
       "      <th>Sale</th>\n",
       "      <th>Lost Call</th>\n",
       "      <th>Abandoned</th>\n",
       "      <th>Busy Minutes</th>\n",
       "      <th>Not Ready Minutes</th>\n",
       "      <th>Incoming Wait Time</th>\n",
       "      <th>During Call Wait Time</th>\n",
       "      <th>Calls</th>\n",
       "    </tr>\n",
       "  </thead>\n",
       "  <tbody>\n",
       "    <tr>\n",
       "      <th>0</th>\n",
       "      <td>North</td>\n",
       "      <td>Complaint</td>\n",
       "      <td>9:00 AM</td>\n",
       "      <td>Incoming</td>\n",
       "      <td>B</td>\n",
       "      <td>Brent</td>\n",
       "      <td>NO</td>\n",
       "      <td>0</td>\n",
       "      <td>1</td>\n",
       "      <td>9</td>\n",
       "      <td>2</td>\n",
       "      <td>1.0</td>\n",
       "      <td>4</td>\n",
       "      <td>1</td>\n",
       "    </tr>\n",
       "    <tr>\n",
       "      <th>1</th>\n",
       "      <td>North</td>\n",
       "      <td>Sales Support</td>\n",
       "      <td>11:00 AM</td>\n",
       "      <td>Incoming</td>\n",
       "      <td>A</td>\n",
       "      <td>Cam</td>\n",
       "      <td>NO</td>\n",
       "      <td>0</td>\n",
       "      <td>0</td>\n",
       "      <td>11</td>\n",
       "      <td>1</td>\n",
       "      <td>1.0</td>\n",
       "      <td>3</td>\n",
       "      <td>1</td>\n",
       "    </tr>\n",
       "    <tr>\n",
       "      <th>2</th>\n",
       "      <td>North</td>\n",
       "      <td>Sales Support</td>\n",
       "      <td>11:00 AM</td>\n",
       "      <td>Incoming</td>\n",
       "      <td>B</td>\n",
       "      <td>Todd</td>\n",
       "      <td>NO</td>\n",
       "      <td>0</td>\n",
       "      <td>0</td>\n",
       "      <td>9</td>\n",
       "      <td>3</td>\n",
       "      <td>1.0</td>\n",
       "      <td>3</td>\n",
       "      <td>1</td>\n",
       "    </tr>\n",
       "    <tr>\n",
       "      <th>3</th>\n",
       "      <td>North</td>\n",
       "      <td>Sales Support</td>\n",
       "      <td>4:00 PM</td>\n",
       "      <td>Incoming</td>\n",
       "      <td>B</td>\n",
       "      <td>Brent</td>\n",
       "      <td>NO</td>\n",
       "      <td>0</td>\n",
       "      <td>0</td>\n",
       "      <td>11</td>\n",
       "      <td>2</td>\n",
       "      <td>1.0</td>\n",
       "      <td>4</td>\n",
       "      <td>1</td>\n",
       "    </tr>\n",
       "    <tr>\n",
       "      <th>4</th>\n",
       "      <td>North</td>\n",
       "      <td>Product Support</td>\n",
       "      <td>12:00 PM</td>\n",
       "      <td>Incoming</td>\n",
       "      <td>B</td>\n",
       "      <td>Brent</td>\n",
       "      <td>NO</td>\n",
       "      <td>0</td>\n",
       "      <td>0</td>\n",
       "      <td>8</td>\n",
       "      <td>2</td>\n",
       "      <td>1.0</td>\n",
       "      <td>4</td>\n",
       "      <td>1</td>\n",
       "    </tr>\n",
       "  </tbody>\n",
       "</table>\n",
       "</div>"
      ],
      "text/plain": [
       "  Branch     Call Purpose Time Block Incoming or Outgoing Queue Rep ID Sale  \\\n",
       "0  North        Complaint    9:00 AM             Incoming     B  Brent   NO   \n",
       "1  North    Sales Support   11:00 AM             Incoming     A    Cam   NO   \n",
       "2  North    Sales Support   11:00 AM             Incoming     B   Todd   NO   \n",
       "3  North    Sales Support    4:00 PM             Incoming     B  Brent   NO   \n",
       "4  North  Product Support   12:00 PM             Incoming     B  Brent   NO   \n",
       "\n",
       "   Lost Call  Abandoned  Busy Minutes  Not Ready Minutes  Incoming Wait Time  \\\n",
       "0          0          1             9                  2                 1.0   \n",
       "1          0          0            11                  1                 1.0   \n",
       "2          0          0             9                  3                 1.0   \n",
       "3          0          0            11                  2                 1.0   \n",
       "4          0          0             8                  2                 1.0   \n",
       "\n",
       "   During Call Wait Time  Calls  \n",
       "0                      4      1  \n",
       "1                      3      1  \n",
       "2                      3      1  \n",
       "3                      4      1  \n",
       "4                      4      1  "
      ]
     },
     "execution_count": 137,
     "metadata": {},
     "output_type": "execute_result"
    }
   ],
   "source": [
    "north_df.head()"
   ]
  },
  {
   "cell_type": "code",
   "execution_count": 138,
   "id": "abe4493d",
   "metadata": {},
   "outputs": [
    {
     "data": {
      "text/html": [
       "<div>\n",
       "<style scoped>\n",
       "    .dataframe tbody tr th:only-of-type {\n",
       "        vertical-align: middle;\n",
       "    }\n",
       "\n",
       "    .dataframe tbody tr th {\n",
       "        vertical-align: top;\n",
       "    }\n",
       "\n",
       "    .dataframe thead th {\n",
       "        text-align: right;\n",
       "    }\n",
       "</style>\n",
       "<table border=\"1\" class=\"dataframe\">\n",
       "  <thead>\n",
       "    <tr style=\"text-align: right;\">\n",
       "      <th></th>\n",
       "      <th>Branch</th>\n",
       "      <th>Call Purpose</th>\n",
       "      <th>Time Block</th>\n",
       "      <th>Incoming or Outgoing</th>\n",
       "      <th>Queue</th>\n",
       "      <th>Rep ID</th>\n",
       "      <th>Sale</th>\n",
       "      <th>Lost Call</th>\n",
       "      <th>Abandoned</th>\n",
       "      <th>Busy Minutes</th>\n",
       "      <th>Not Ready Minutes</th>\n",
       "      <th>Incoming Wait Time</th>\n",
       "      <th>During Call Wait Time</th>\n",
       "      <th>Calls</th>\n",
       "    </tr>\n",
       "  </thead>\n",
       "  <tbody>\n",
       "    <tr>\n",
       "      <th>0</th>\n",
       "      <td>South</td>\n",
       "      <td>Sales Support</td>\n",
       "      <td>10:00 AM</td>\n",
       "      <td>Incoming</td>\n",
       "      <td>D</td>\n",
       "      <td>Kate</td>\n",
       "      <td>NO</td>\n",
       "      <td>0</td>\n",
       "      <td>0</td>\n",
       "      <td>9</td>\n",
       "      <td>1</td>\n",
       "      <td>1.0</td>\n",
       "      <td>2</td>\n",
       "      <td>1</td>\n",
       "    </tr>\n",
       "    <tr>\n",
       "      <th>1</th>\n",
       "      <td>South</td>\n",
       "      <td>Sales Support</td>\n",
       "      <td>10:00 AM</td>\n",
       "      <td>Incoming</td>\n",
       "      <td>C</td>\n",
       "      <td>Eric</td>\n",
       "      <td>NO</td>\n",
       "      <td>0</td>\n",
       "      <td>0</td>\n",
       "      <td>8</td>\n",
       "      <td>2</td>\n",
       "      <td>1.0</td>\n",
       "      <td>4</td>\n",
       "      <td>1</td>\n",
       "    </tr>\n",
       "    <tr>\n",
       "      <th>2</th>\n",
       "      <td>South</td>\n",
       "      <td>Sales Support</td>\n",
       "      <td>10:00 AM</td>\n",
       "      <td>Incoming</td>\n",
       "      <td>C</td>\n",
       "      <td>Susan</td>\n",
       "      <td>NO</td>\n",
       "      <td>0</td>\n",
       "      <td>0</td>\n",
       "      <td>10</td>\n",
       "      <td>2</td>\n",
       "      <td>1.0</td>\n",
       "      <td>4</td>\n",
       "      <td>1</td>\n",
       "    </tr>\n",
       "    <tr>\n",
       "      <th>3</th>\n",
       "      <td>South</td>\n",
       "      <td>Sales Support</td>\n",
       "      <td>10:00 AM</td>\n",
       "      <td>Incoming</td>\n",
       "      <td>C</td>\n",
       "      <td>Alice</td>\n",
       "      <td>NO</td>\n",
       "      <td>0</td>\n",
       "      <td>0</td>\n",
       "      <td>12</td>\n",
       "      <td>1</td>\n",
       "      <td>1.0</td>\n",
       "      <td>3</td>\n",
       "      <td>1</td>\n",
       "    </tr>\n",
       "    <tr>\n",
       "      <th>4</th>\n",
       "      <td>South</td>\n",
       "      <td>Sales Support</td>\n",
       "      <td>12:00 PM</td>\n",
       "      <td>Incoming</td>\n",
       "      <td>C</td>\n",
       "      <td>Sandy</td>\n",
       "      <td>NO</td>\n",
       "      <td>0</td>\n",
       "      <td>0</td>\n",
       "      <td>8</td>\n",
       "      <td>3</td>\n",
       "      <td>1.0</td>\n",
       "      <td>3</td>\n",
       "      <td>1</td>\n",
       "    </tr>\n",
       "  </tbody>\n",
       "</table>\n",
       "</div>"
      ],
      "text/plain": [
       "  Branch   Call Purpose Time Block Incoming or Outgoing Queue Rep ID Sale  \\\n",
       "0  South  Sales Support   10:00 AM             Incoming     D   Kate   NO   \n",
       "1  South  Sales Support   10:00 AM             Incoming     C   Eric   NO   \n",
       "2  South  Sales Support   10:00 AM             Incoming     C  Susan   NO   \n",
       "3  South  Sales Support   10:00 AM             Incoming     C  Alice   NO   \n",
       "4  South  Sales Support   12:00 PM             Incoming     C  Sandy   NO   \n",
       "\n",
       "   Lost Call  Abandoned  Busy Minutes  Not Ready Minutes  Incoming Wait Time  \\\n",
       "0          0          0             9                  1                 1.0   \n",
       "1          0          0             8                  2                 1.0   \n",
       "2          0          0            10                  2                 1.0   \n",
       "3          0          0            12                  1                 1.0   \n",
       "4          0          0             8                  3                 1.0   \n",
       "\n",
       "   During Call Wait Time  Calls  \n",
       "0                      2      1  \n",
       "1                      4      1  \n",
       "2                      4      1  \n",
       "3                      3      1  \n",
       "4                      3      1  "
      ]
     },
     "execution_count": 138,
     "metadata": {},
     "output_type": "execute_result"
    }
   ],
   "source": [
    "south_df.head()"
   ]
  },
  {
   "cell_type": "code",
   "execution_count": 139,
   "id": "eb7f53cb",
   "metadata": {},
   "outputs": [
    {
     "name": "stdout",
     "output_type": "stream",
     "text": [
      "<class 'pandas.core.frame.DataFrame'>\n",
      "Int64Index: 245 entries, 0 to 244\n",
      "Data columns (total 14 columns):\n",
      " #   Column                 Non-Null Count  Dtype  \n",
      "---  ------                 --------------  -----  \n",
      " 0   Branch                 245 non-null    object \n",
      " 1   Call Purpose           245 non-null    object \n",
      " 2   Time Block             245 non-null    object \n",
      " 3   Incoming or Outgoing   245 non-null    object \n",
      " 4   Queue                  245 non-null    object \n",
      " 5   Rep ID                 245 non-null    object \n",
      " 6   Sale                   245 non-null    object \n",
      " 7   Lost Call              245 non-null    int64  \n",
      " 8   Abandoned              245 non-null    int64  \n",
      " 9   Busy Minutes           245 non-null    int64  \n",
      " 10  Not Ready Minutes      245 non-null    int64  \n",
      " 11  Incoming Wait Time     82 non-null     float64\n",
      " 12  During Call Wait Time  245 non-null    int64  \n",
      " 13  Calls                  245 non-null    int64  \n",
      "dtypes: float64(1), int64(6), object(7)\n",
      "memory usage: 28.7+ KB\n"
     ]
    }
   ],
   "source": [
    "north_df.info()"
   ]
  },
  {
   "cell_type": "code",
   "execution_count": 140,
   "id": "64417f37",
   "metadata": {},
   "outputs": [
    {
     "name": "stdout",
     "output_type": "stream",
     "text": [
      "<class 'pandas.core.frame.DataFrame'>\n",
      "Int64Index: 314 entries, 0 to 313\n",
      "Data columns (total 14 columns):\n",
      " #   Column                 Non-Null Count  Dtype  \n",
      "---  ------                 --------------  -----  \n",
      " 0   Branch                 314 non-null    object \n",
      " 1   Call Purpose           314 non-null    object \n",
      " 2   Time Block             314 non-null    object \n",
      " 3   Incoming or Outgoing   314 non-null    object \n",
      " 4   Queue                  314 non-null    object \n",
      " 5   Rep ID                 314 non-null    object \n",
      " 6   Sale                   314 non-null    object \n",
      " 7   Lost Call              314 non-null    int64  \n",
      " 8   Abandoned              314 non-null    int64  \n",
      " 9   Busy Minutes           314 non-null    int64  \n",
      " 10  Not Ready Minutes      314 non-null    int64  \n",
      " 11  Incoming Wait Time     126 non-null    float64\n",
      " 12  During Call Wait Time  314 non-null    int64  \n",
      " 13  Calls                  314 non-null    int64  \n",
      "dtypes: float64(1), int64(6), object(7)\n",
      "memory usage: 36.8+ KB\n"
     ]
    }
   ],
   "source": [
    "south_df.info()"
   ]
  },
  {
   "cell_type": "markdown",
   "id": "b4d3484b",
   "metadata": {},
   "source": [
    "## Exploratory Data Analysis\n",
    "\n",
    "Time to do some EDA! In the process of learning more about the two datasets, answer the following questions. In the code blocks below enter the code used to solve the question.  At the end of the section record your answers by double clicking where asked."
   ]
  },
  {
   "cell_type": "markdown",
   "id": "76898991",
   "metadata": {},
   "source": [
    "#### EDA Question 1A:  How many reps are in the North branch?  "
   ]
  },
  {
   "cell_type": "code",
   "execution_count": 141,
   "id": "ce3eb5e4",
   "metadata": {},
   "outputs": [
    {
     "data": {
      "text/plain": [
       "9"
      ]
     },
     "execution_count": 141,
     "metadata": {},
     "output_type": "execute_result"
    }
   ],
   "source": [
    "#Code Used:\n",
    "#reps_north = north_df.groupby('Rep ID')  <- Prior Answer\n",
    "#print(reps_north.groups)\n",
    "\n",
    "len(north_df['Rep ID'].unique())"
   ]
  },
  {
   "cell_type": "code",
   "execution_count": 142,
   "id": "e1026d10",
   "metadata": {},
   "outputs": [],
   "source": [
    "# There are 9 Reps in North."
   ]
  },
  {
   "cell_type": "markdown",
   "id": "2a9b34d8",
   "metadata": {},
   "source": [
    "#### EDA Question 1B:  How many reps are in the South branch?  "
   ]
  },
  {
   "cell_type": "code",
   "execution_count": 143,
   "id": "3c715bbf",
   "metadata": {},
   "outputs": [
    {
     "data": {
      "text/plain": [
       "11"
      ]
     },
     "execution_count": 143,
     "metadata": {},
     "output_type": "execute_result"
    }
   ],
   "source": [
    "#Code Used:\n",
    "#reps_south = south_df.groupby('Rep ID') <- Prior Answer\n",
    "#print(reps_south.groups)\n",
    "\n",
    "len(south_df['Rep ID'].unique())"
   ]
  },
  {
   "cell_type": "code",
   "execution_count": 144,
   "id": "70244796",
   "metadata": {},
   "outputs": [],
   "source": [
    "# There are 11 reps in South."
   ]
  },
  {
   "cell_type": "markdown",
   "id": "a872f045",
   "metadata": {},
   "source": [
    "#### EDA Question 2A:  What is the average busy minutes, not ready minutes, incoming wait time, and during call wait time for the North branch? "
   ]
  },
  {
   "cell_type": "code",
   "execution_count": 145,
   "id": "3759305f",
   "metadata": {},
   "outputs": [
    {
     "name": "stdout",
     "output_type": "stream",
     "text": [
      "Lost Call                0.020408\n",
      "Abandoned                0.028571\n",
      "Busy Minutes             9.987755\n",
      "Not Ready Minutes        1.914286\n",
      "Incoming Wait Time       3.048780\n",
      "During Call Wait Time    2.967347\n",
      "Calls                    1.000000\n",
      "Name: mean, dtype: float64\n"
     ]
    }
   ],
   "source": [
    "#Code Used:\n",
    "# Easier to run for all columns\n",
    "\n",
    "print(north_df.describe().loc['mean'])"
   ]
  },
  {
   "cell_type": "markdown",
   "id": "3851cf3e",
   "metadata": {},
   "source": [
    "#### EDA Question 2B:  What is the average busy minutes, not ready minutes, incoming wait time, and during call wait time for the South branch? "
   ]
  },
  {
   "cell_type": "code",
   "execution_count": 146,
   "id": "a77ec152",
   "metadata": {},
   "outputs": [
    {
     "name": "stdout",
     "output_type": "stream",
     "text": [
      "Lost Call                 0.035032\n",
      "Abandoned                 0.012739\n",
      "Busy Minutes             10.054140\n",
      "Not Ready Minutes         1.910828\n",
      "Incoming Wait Time        3.000000\n",
      "During Call Wait Time     3.076433\n",
      "Calls                     1.000000\n",
      "Name: mean, dtype: float64\n"
     ]
    }
   ],
   "source": [
    "#Code Used:\n",
    "print(south_df.describe().loc['mean'])"
   ]
  },
  {
   "cell_type": "markdown",
   "id": "75915553",
   "metadata": {},
   "source": [
    "#### EDA Question 3:  What is the number of calls taken for each time block(Both North and South combined)?"
   ]
  },
  {
   "cell_type": "code",
   "execution_count": 147,
   "id": "49566936",
   "metadata": {},
   "outputs": [
    {
     "name": "stdout",
     "output_type": "stream",
     "text": [
      "10:00 AM     99\n",
      "11:00 AM     56\n",
      "12:00 PM    120\n",
      "1:00 PM      40\n",
      "2:00 PM      65\n",
      "3:00 PM      73\n",
      "4:00 PM      53\n",
      "5:00 PM      43\n",
      "9:00 AM      10\n",
      "Name: Time Block, dtype: int64\n"
     ]
    }
   ],
   "source": [
    "# Code Used:\n",
    "north_calls = north_df['Time Block'].value_counts()\n",
    "south_calls = south_df['Time Block'].value_counts()\n",
    "print(north_calls + south_calls)\n",
    "    "
   ]
  },
  {
   "cell_type": "markdown",
   "id": "40b1fd3f",
   "metadata": {},
   "source": [
    "##### Record your answers for the EDA section by double clicking here:\n",
    "- 1a) Reps in the North Branch = 9\n",
    "- 1b) Reps in the South Branch = 11\n",
    "\n",
    "\n",
    "- 2a) North Branch, (round to the nearest hundredth):\n",
    "> - Busy Minutes = 9.99\n",
    "> - Not Ready Minutes = 1.91\n",
    "> - Incoming Wait Time = 3.05\n",
    "> - During Call Wait Time = 2.97\n",
    "- 2b) South Branch, (round to the nearest hundredth):\n",
    "> - Busy Minutes = 10.05\n",
    "> - Not Ready Minutes = 1.91\n",
    "> - Incoming Wait Time = 3.00\n",
    "> - During Call Wait Time = 3.08\n",
    "- 3) Total Calls taken for all branches per time block:\n",
    "> - 9:00AM   = 10\n",
    "> - 10:00AM  = 99\n",
    "> - 11:00AM  = 56\n",
    "> - 12:00PM  = 120\n",
    "> - 1:00PM   = 40\n",
    "> - 2:00PM   = 65\n",
    "> - 3:00PM   = 73\n",
    "> - 4:00PM   = 53\n",
    "> - 5:00PM   = 43\n",
    "\n"
   ]
  },
  {
   "cell_type": "markdown",
   "id": "446048d3",
   "metadata": {},
   "source": [
    "<span style=\"background-color:orangered; color:orangered;\">- - - - - - - - - - - - - - - - - - - - - - - - - - - - - - - - - - - - - - - - - - - - - - - - - - - - - - - - - - - - - - - - - - - - - - - - - - - - - - - - - - - - - - - - -</span>"
   ]
  },
  {
   "cell_type": "markdown",
   "id": "366bfb19",
   "metadata": {},
   "source": [
    "## Cleaning Your Data \n",
    "Now you need to clean up the datasets. When cleaning the datasets, you may find that there isn't dirty data to clean. That is okay! Some questions you need to answer about the data sets.\n",
    "* Add additional code blocks as needed to show how you came to your conclusions. Add comments in your code blocks to help others understand your thinking. "
   ]
  },
  {
   "cell_type": "markdown",
   "id": "c3564d69",
   "metadata": {},
   "source": [
    "#### Cleaning Question 1:  Is there any missing data and if yes explain what you would do with the missing data and why?\n",
    "##### Record your answer by double clicking here:\n",
    "> Your Answer: Some calls are outbound, and would not have specific incoming call information."
   ]
  },
  {
   "cell_type": "code",
   "execution_count": 148,
   "id": "b77fb574",
   "metadata": {},
   "outputs": [
    {
     "name": "stdout",
     "output_type": "stream",
     "text": [
      "Index(['Lost Call', 'Abandoned', 'Busy Minutes', 'Not Ready Minutes',\n",
      "       'Incoming Wait Time', 'During Call Wait Time', 'Calls'],\n",
      "      dtype='object')\n",
      "Index(['Branch', 'Call Purpose', 'Time Block', 'Incoming or Outgoing', 'Queue',\n",
      "       'Rep ID', 'Sale'],\n",
      "      dtype='object')\n",
      "Index(['Lost Call', 'Abandoned', 'Busy Minutes', 'Not Ready Minutes',\n",
      "       'Incoming Wait Time', 'During Call Wait Time', 'Calls'],\n",
      "      dtype='object')\n",
      "Index(['Branch', 'Call Purpose', 'Time Block', 'Incoming or Outgoing', 'Queue',\n",
      "       'Rep ID', 'Sale'],\n",
      "      dtype='object')\n"
     ]
    }
   ],
   "source": [
    "# Code Used\n",
    "# Add Additional Cells as needed.\n",
    "# Separate the Numeric and Non-Numeric columns for North and South call centers\n",
    "\n",
    "north_numeric_cols = north_df.select_dtypes(include=['number']).columns\n",
    "print(north_numeric_cols)\n",
    "\n",
    "north_non_numeric_cols = north_df.select_dtypes(exclude=['number']).columns\n",
    "print(north_non_numeric_cols)\n",
    "\n",
    "south_numeric_cols = south_df.select_dtypes(include=['number']).columns\n",
    "print(south_numeric_cols)\n",
    "\n",
    "south_non_numeric_cols = south_df.select_dtypes(exclude=['number']).columns\n",
    "print(south_non_numeric_cols)"
   ]
  },
  {
   "cell_type": "code",
   "execution_count": 149,
   "id": "eb37006a",
   "metadata": {},
   "outputs": [
    {
     "name": "stdout",
     "output_type": "stream",
     "text": [
      "<class 'pandas.core.frame.DataFrame'>\n",
      "Int64Index: 245 entries, 0 to 244\n",
      "Data columns (total 7 columns):\n",
      " #   Column                Non-Null Count  Dtype \n",
      "---  ------                --------------  ----- \n",
      " 0   Branch                245 non-null    object\n",
      " 1   Call Purpose          245 non-null    object\n",
      " 2   Time Block            245 non-null    object\n",
      " 3   Incoming or Outgoing  245 non-null    object\n",
      " 4   Queue                 245 non-null    object\n",
      " 5   Rep ID                245 non-null    object\n",
      " 6   Sale                  245 non-null    object\n",
      "dtypes: object(7)\n",
      "memory usage: 15.3+ KB\n"
     ]
    }
   ],
   "source": [
    "# Searching for missing data for North Non-Numeric Data\n",
    "north_df[north_non_numeric_cols].info()"
   ]
  },
  {
   "cell_type": "code",
   "execution_count": 150,
   "id": "2e842f32",
   "metadata": {},
   "outputs": [
    {
     "name": "stdout",
     "output_type": "stream",
     "text": [
      "<class 'pandas.core.frame.DataFrame'>\n",
      "Int64Index: 314 entries, 0 to 313\n",
      "Data columns (total 7 columns):\n",
      " #   Column                Non-Null Count  Dtype \n",
      "---  ------                --------------  ----- \n",
      " 0   Branch                314 non-null    object\n",
      " 1   Call Purpose          314 non-null    object\n",
      " 2   Time Block            314 non-null    object\n",
      " 3   Incoming or Outgoing  314 non-null    object\n",
      " 4   Queue                 314 non-null    object\n",
      " 5   Rep ID                314 non-null    object\n",
      " 6   Sale                  314 non-null    object\n",
      "dtypes: object(7)\n",
      "memory usage: 19.6+ KB\n"
     ]
    }
   ],
   "source": [
    "# Searching for missing data for South Non-Numeric Data\n",
    "south_df[south_non_numeric_cols].info()"
   ]
  },
  {
   "cell_type": "code",
   "execution_count": 151,
   "id": "6d3e7d59",
   "metadata": {},
   "outputs": [
    {
     "name": "stdout",
     "output_type": "stream",
     "text": [
      "<class 'pandas.core.frame.DataFrame'>\n",
      "Int64Index: 245 entries, 0 to 244\n",
      "Data columns (total 7 columns):\n",
      " #   Column                 Non-Null Count  Dtype  \n",
      "---  ------                 --------------  -----  \n",
      " 0   Lost Call              245 non-null    int64  \n",
      " 1   Abandoned              245 non-null    int64  \n",
      " 2   Busy Minutes           245 non-null    int64  \n",
      " 3   Not Ready Minutes      245 non-null    int64  \n",
      " 4   Incoming Wait Time     82 non-null     float64\n",
      " 5   During Call Wait Time  245 non-null    int64  \n",
      " 6   Calls                  245 non-null    int64  \n",
      "dtypes: float64(1), int64(6)\n",
      "memory usage: 15.3 KB\n"
     ]
    }
   ],
   "source": [
    "# Searching for missing data for North Numeric Data - Appears the Incoming Wait time may have missing Data.\n",
    "north_df[north_numeric_cols].info()"
   ]
  },
  {
   "cell_type": "code",
   "execution_count": 152,
   "id": "5c4438ef",
   "metadata": {},
   "outputs": [
    {
     "name": "stdout",
     "output_type": "stream",
     "text": [
      "<class 'pandas.core.frame.DataFrame'>\n",
      "Int64Index: 314 entries, 0 to 313\n",
      "Data columns (total 7 columns):\n",
      " #   Column                 Non-Null Count  Dtype  \n",
      "---  ------                 --------------  -----  \n",
      " 0   Lost Call              314 non-null    int64  \n",
      " 1   Abandoned              314 non-null    int64  \n",
      " 2   Busy Minutes           314 non-null    int64  \n",
      " 3   Not Ready Minutes      314 non-null    int64  \n",
      " 4   Incoming Wait Time     126 non-null    float64\n",
      " 5   During Call Wait Time  314 non-null    int64  \n",
      " 6   Calls                  314 non-null    int64  \n",
      "dtypes: float64(1), int64(6)\n",
      "memory usage: 19.6 KB\n"
     ]
    }
   ],
   "source": [
    "# Searching for missing data for South Numeric Data - Incoming Wait Time appears to have missing data here, too.\n",
    "south_df[south_numeric_cols].info()"
   ]
  },
  {
   "cell_type": "code",
   "execution_count": 153,
   "id": "7832ba45",
   "metadata": {},
   "outputs": [
    {
     "data": {
      "text/plain": [
       "Branch                     0\n",
       "Call Purpose               0\n",
       "Time Block                 0\n",
       "Incoming or Outgoing       0\n",
       "Queue                      0\n",
       "Rep ID                     0\n",
       "Sale                       0\n",
       "Lost Call                  0\n",
       "Abandoned                  0\n",
       "Busy Minutes               0\n",
       "Not Ready Minutes          0\n",
       "Incoming Wait Time       163\n",
       "During Call Wait Time      0\n",
       "Calls                      0\n",
       "dtype: int64"
      ]
     },
     "execution_count": 153,
     "metadata": {},
     "output_type": "execute_result"
    }
   ],
   "source": [
    "#checking for any/all n/a values on entire North dataframe of 15 columns - confirms the Incoming Wait Time column\n",
    "num_missing = north_df.isna().sum()\n",
    "num_missing[:15]"
   ]
  },
  {
   "cell_type": "code",
   "execution_count": 154,
   "id": "7858b9c9",
   "metadata": {},
   "outputs": [
    {
     "data": {
      "text/plain": [
       "Branch                     0\n",
       "Call Purpose               0\n",
       "Time Block                 0\n",
       "Incoming or Outgoing       0\n",
       "Queue                      0\n",
       "Rep ID                     0\n",
       "Sale                       0\n",
       "Lost Call                  0\n",
       "Abandoned                  0\n",
       "Busy Minutes               0\n",
       "Not Ready Minutes          0\n",
       "Incoming Wait Time       188\n",
       "During Call Wait Time      0\n",
       "Calls                      0\n",
       "dtype: int64"
      ]
     },
     "execution_count": 154,
     "metadata": {},
     "output_type": "execute_result"
    }
   ],
   "source": [
    "#checking for any/all n/a values on entire North dataframe of 15 columns - confirms the Incoming Wait Time column again.\n",
    "num_missing = south_df.isna().sum()\n",
    "num_missing[:15]"
   ]
  },
  {
   "cell_type": "code",
   "execution_count": 155,
   "id": "7a50b9ad",
   "metadata": {},
   "outputs": [
    {
     "data": {
      "text/plain": [
       "<Axes: >"
      ]
     },
     "execution_count": 155,
     "metadata": {},
     "output_type": "execute_result"
    },
    {
     "data": {
      "image/png": "[encoded data removed]",
      "text/plain": [
       "<Figure size 1200x800 with 2 Axes>"
      ]
     },
     "metadata": {},
     "output_type": "display_data"
    }
   ],
   "source": [
    "import seaborn as sns\n",
    "import matplotlib.pyplot as plt\n",
    "\n",
    "plt.figure(figsize=(12,8))\n",
    "\n",
    "cols = north_df.columns[:15]\n",
    "colours = ['#000099', '#ffff00'] # colours: yellow - missing. blue - not missing\n",
    "sns.heatmap(north_df[cols].isna(), cmap=sns.color_palette(colours))\n"
   ]
  },
  {
   "cell_type": "code",
   "execution_count": 156,
   "id": "60c92406",
   "metadata": {},
   "outputs": [
    {
     "data": {
      "text/plain": [
       "<Axes: >"
      ]
     },
     "execution_count": 156,
     "metadata": {},
     "output_type": "execute_result"
    },
    {
     "data": {
      "image/png": "[encoded data removed]",
      "text/plain": [
       "<Figure size 1200x800 with 2 Axes>"
      ]
     },
     "metadata": {},
     "output_type": "display_data"
    }
   ],
   "source": [
    "plt.figure(figsize=(12,8))\n",
    "\n",
    "cols = south_df.columns[:15]\n",
    "colours = ['#006666', '#0ffff0'] # colours: mint - missing. forest - not missing\n",
    "sns.heatmap(south_df[cols].isna(), cmap=sns.color_palette(colours))"
   ]
  },
  {
   "cell_type": "code",
   "execution_count": 157,
   "id": "f5eeb39b",
   "metadata": {},
   "outputs": [],
   "source": [
    "#Since this is a call center, and the data is Agent specific- opted to fill in the 'missing data' with 'Data_Missing'. Even missing data is valuable in this case.\n",
    "north_df_copy = north_df.copy()\n",
    "north_df_copy[north_numeric_cols] = north_df_copy[north_numeric_cols].fillna(-999)\n",
    "north_df_copy[north_non_numeric_cols] = north_df_copy[north_non_numeric_cols].fillna('Data_Missing')\n",
    "\n",
    "south_df_copy = south_df.copy()\n",
    "south_df_copy[south_numeric_cols] = south_df_copy[south_numeric_cols].fillna(-999)\n",
    "south_df_copy[south_non_numeric_cols] = south_df_copy[south_non_numeric_cols].fillna('Data_Missing')"
   ]
  },
  {
   "cell_type": "code",
   "execution_count": 158,
   "id": "5fa6005e",
   "metadata": {},
   "outputs": [
    {
     "data": {
      "text/plain": [
       "count    82.000000\n",
       "mean      3.048780\n",
       "std       1.456382\n",
       "min       1.000000\n",
       "25%       2.000000\n",
       "50%       3.000000\n",
       "75%       4.000000\n",
       "max       5.000000\n",
       "Name: Incoming Wait Time, dtype: float64"
      ]
     },
     "execution_count": 158,
     "metadata": {},
     "output_type": "execute_result"
    }
   ],
   "source": [
    "#Check for outliers in the Incoming Wait Time column with .describe for North\n",
    "north_df['Incoming Wait Time'].describe()"
   ]
  },
  {
   "cell_type": "code",
   "execution_count": 159,
   "id": "87ef50e4",
   "metadata": {},
   "outputs": [
    {
     "data": {
      "text/plain": [
       "count    126.000000\n",
       "mean       3.000000\n",
       "std        1.308434\n",
       "min        1.000000\n",
       "25%        2.000000\n",
       "50%        3.000000\n",
       "75%        4.000000\n",
       "max        5.000000\n",
       "Name: Incoming Wait Time, dtype: float64"
      ]
     },
     "execution_count": 159,
     "metadata": {},
     "output_type": "execute_result"
    }
   ],
   "source": [
    "#Check for outliers in the Incoming Wait Time column with .describe for South\n",
    "south_df['Incoming Wait Time'].describe()"
   ]
  },
  {
   "cell_type": "code",
   "execution_count": 160,
   "id": "d3ffbca7",
   "metadata": {},
   "outputs": [
    {
     "data": {
      "text/html": [
       "<div>\n",
       "<style scoped>\n",
       "    .dataframe tbody tr th:only-of-type {\n",
       "        vertical-align: middle;\n",
       "    }\n",
       "\n",
       "    .dataframe tbody tr th {\n",
       "        vertical-align: top;\n",
       "    }\n",
       "\n",
       "    .dataframe thead th {\n",
       "        text-align: right;\n",
       "    }\n",
       "</style>\n",
       "<table border=\"1\" class=\"dataframe\">\n",
       "  <thead>\n",
       "    <tr style=\"text-align: right;\">\n",
       "      <th></th>\n",
       "      <th>Branch</th>\n",
       "      <th>Call Purpose</th>\n",
       "      <th>Time Block</th>\n",
       "      <th>Incoming or Outgoing</th>\n",
       "      <th>Queue</th>\n",
       "      <th>Rep ID</th>\n",
       "      <th>Sale</th>\n",
       "      <th>Lost Call</th>\n",
       "      <th>Abandoned</th>\n",
       "      <th>Busy Minutes</th>\n",
       "      <th>Not Ready Minutes</th>\n",
       "      <th>Incoming Wait Time</th>\n",
       "      <th>During Call Wait Time</th>\n",
       "      <th>Calls</th>\n",
       "    </tr>\n",
       "  </thead>\n",
       "  <tbody>\n",
       "    <tr>\n",
       "      <th>50</th>\n",
       "      <td>North</td>\n",
       "      <td>Sales Support</td>\n",
       "      <td>12:00 PM</td>\n",
       "      <td>Incoming</td>\n",
       "      <td>A</td>\n",
       "      <td>Joe</td>\n",
       "      <td>NO</td>\n",
       "      <td>0</td>\n",
       "      <td>0</td>\n",
       "      <td>10</td>\n",
       "      <td>1</td>\n",
       "      <td>4.0</td>\n",
       "      <td>3</td>\n",
       "      <td>1</td>\n",
       "    </tr>\n",
       "    <tr>\n",
       "      <th>105</th>\n",
       "      <td>North</td>\n",
       "      <td>Sales Support</td>\n",
       "      <td>10:00 AM</td>\n",
       "      <td>Outgoing</td>\n",
       "      <td>A</td>\n",
       "      <td>Amanda</td>\n",
       "      <td>NO</td>\n",
       "      <td>0</td>\n",
       "      <td>0</td>\n",
       "      <td>11</td>\n",
       "      <td>2</td>\n",
       "      <td>NaN</td>\n",
       "      <td>2</td>\n",
       "      <td>1</td>\n",
       "    </tr>\n",
       "  </tbody>\n",
       "</table>\n",
       "</div>"
      ],
      "text/plain": [
       "    Branch   Call Purpose Time Block Incoming or Outgoing Queue  Rep ID Sale  \\\n",
       "50   North  Sales Support   12:00 PM             Incoming     A     Joe   NO   \n",
       "105  North  Sales Support   10:00 AM             Outgoing     A  Amanda   NO   \n",
       "\n",
       "     Lost Call  Abandoned  Busy Minutes  Not Ready Minutes  \\\n",
       "50           0          0            10                  1   \n",
       "105          0          0            11                  2   \n",
       "\n",
       "     Incoming Wait Time  During Call Wait Time  Calls  \n",
       "50                  4.0                      3      1  \n",
       "105                 NaN                      2      1  "
      ]
     },
     "execution_count": 160,
     "metadata": {},
     "output_type": "execute_result"
    }
   ],
   "source": [
    "#Check for Duplicated data - North - Ran as north_df_copy and north_df - both did not yield duplicates\n",
    "north_df[north_df.duplicated()]"
   ]
  },
  {
   "cell_type": "code",
   "execution_count": 161,
   "id": "26c80471",
   "metadata": {},
   "outputs": [
    {
     "data": {
      "text/html": [
       "<div>\n",
       "<style scoped>\n",
       "    .dataframe tbody tr th:only-of-type {\n",
       "        vertical-align: middle;\n",
       "    }\n",
       "\n",
       "    .dataframe tbody tr th {\n",
       "        vertical-align: top;\n",
       "    }\n",
       "\n",
       "    .dataframe thead th {\n",
       "        text-align: right;\n",
       "    }\n",
       "</style>\n",
       "<table border=\"1\" class=\"dataframe\">\n",
       "  <thead>\n",
       "    <tr style=\"text-align: right;\">\n",
       "      <th></th>\n",
       "      <th>Branch</th>\n",
       "      <th>Call Purpose</th>\n",
       "      <th>Time Block</th>\n",
       "      <th>Incoming or Outgoing</th>\n",
       "      <th>Queue</th>\n",
       "      <th>Rep ID</th>\n",
       "      <th>Sale</th>\n",
       "      <th>Lost Call</th>\n",
       "      <th>Abandoned</th>\n",
       "      <th>Busy Minutes</th>\n",
       "      <th>Not Ready Minutes</th>\n",
       "      <th>Incoming Wait Time</th>\n",
       "      <th>During Call Wait Time</th>\n",
       "      <th>Calls</th>\n",
       "    </tr>\n",
       "  </thead>\n",
       "  <tbody>\n",
       "    <tr>\n",
       "      <th>58</th>\n",
       "      <td>South</td>\n",
       "      <td>Sales Support</td>\n",
       "      <td>12:00 PM</td>\n",
       "      <td>Incoming</td>\n",
       "      <td>D</td>\n",
       "      <td>Kate</td>\n",
       "      <td>NO</td>\n",
       "      <td>0</td>\n",
       "      <td>0</td>\n",
       "      <td>8</td>\n",
       "      <td>1</td>\n",
       "      <td>3.0</td>\n",
       "      <td>3</td>\n",
       "      <td>1</td>\n",
       "    </tr>\n",
       "    <tr>\n",
       "      <th>170</th>\n",
       "      <td>South</td>\n",
       "      <td>Sales Support</td>\n",
       "      <td>11:00 AM</td>\n",
       "      <td>Outgoing</td>\n",
       "      <td>D</td>\n",
       "      <td>Randy</td>\n",
       "      <td>NO</td>\n",
       "      <td>0</td>\n",
       "      <td>0</td>\n",
       "      <td>8</td>\n",
       "      <td>3</td>\n",
       "      <td>NaN</td>\n",
       "      <td>2</td>\n",
       "      <td>1</td>\n",
       "    </tr>\n",
       "    <tr>\n",
       "      <th>180</th>\n",
       "      <td>South</td>\n",
       "      <td>Sales Support</td>\n",
       "      <td>12:00 PM</td>\n",
       "      <td>Outgoing</td>\n",
       "      <td>C</td>\n",
       "      <td>Sandy</td>\n",
       "      <td>NO</td>\n",
       "      <td>0</td>\n",
       "      <td>0</td>\n",
       "      <td>8</td>\n",
       "      <td>1</td>\n",
       "      <td>NaN</td>\n",
       "      <td>4</td>\n",
       "      <td>1</td>\n",
       "    </tr>\n",
       "  </tbody>\n",
       "</table>\n",
       "</div>"
      ],
      "text/plain": [
       "    Branch   Call Purpose Time Block Incoming or Outgoing Queue Rep ID Sale  \\\n",
       "58   South  Sales Support   12:00 PM             Incoming     D   Kate   NO   \n",
       "170  South  Sales Support   11:00 AM             Outgoing     D  Randy   NO   \n",
       "180  South  Sales Support   12:00 PM             Outgoing     C  Sandy   NO   \n",
       "\n",
       "     Lost Call  Abandoned  Busy Minutes  Not Ready Minutes  \\\n",
       "58           0          0             8                  1   \n",
       "170          0          0             8                  3   \n",
       "180          0          0             8                  1   \n",
       "\n",
       "     Incoming Wait Time  During Call Wait Time  Calls  \n",
       "58                  3.0                      3      1  \n",
       "170                 NaN                      2      1  \n",
       "180                 NaN                      4      1  "
      ]
     },
     "execution_count": 161,
     "metadata": {},
     "output_type": "execute_result"
    }
   ],
   "source": [
    "#Check for Duplicated data - South - Ran as south_df_copy and south_df - both did not yield duplicates.\n",
    "south_df[south_df.duplicated()]"
   ]
  },
  {
   "cell_type": "markdown",
   "id": "dc47f020",
   "metadata": {},
   "source": [
    "#### Cleaning Question 2:  In the North data set, there are two separate \"YES\" values for a sale. Why and how did you rectify the issue?\n",
    "##### Record your answer by double clicking here:\n",
    "> Your Answer: ***Corrections made - I did not assign the dataframe to the strip function before - and when I reworked the .value_counts - I could then see the YES items. :D  \n",
    "I do not see two separate YES values, but visually scanned the CSV file - found one entry with trailing space."
   ]
  },
  {
   "cell_type": "code",
   "execution_count": 162,
   "id": "4e0fbad6",
   "metadata": {},
   "outputs": [
    {
     "name": "stdout",
     "output_type": "stream",
     "text": [
      "NO      234\n",
      "YES      10\n",
      "YES       1\n",
      "Name: Sale, dtype: int64\n",
      "NO     234\n",
      "YES     11\n",
      "Name: Sale, dtype: int64\n",
      "    Branch     Call Purpose Time Block Incoming or Outgoing Queue  Rep ID  \\\n",
      "0    North        Complaint    9:00 AM             Incoming     B   Brent   \n",
      "1    North    Sales Support   11:00 AM             Incoming     A     Cam   \n",
      "2    North    Sales Support   11:00 AM             Incoming     B    Todd   \n",
      "3    North    Sales Support    4:00 PM             Incoming     B   Brent   \n",
      "4    North  Product Support   12:00 PM             Incoming     B   Brent   \n",
      "..     ...              ...        ...                  ...   ...     ...   \n",
      "240  North  Product Support    5:00 PM             Outgoing     B   Brent   \n",
      "241  North  Product Support    5:00 PM             Outgoing     A     Joe   \n",
      "242  North  Product Support    5:00 PM             Outgoing     A  Amanda   \n",
      "243  North  Product Support    5:00 PM             Outgoing     A     Cam   \n",
      "244  North  Product Support    5:00 PM             Outgoing     B  Xander   \n",
      "\n",
      "    Sale  Lost Call  Abandoned  Busy Minutes  Not Ready Minutes  \\\n",
      "0     NO          0          1             9                  2   \n",
      "1     NO          0          0            11                  1   \n",
      "2     NO          0          0             9                  3   \n",
      "3     NO          0          0            11                  2   \n",
      "4     NO          0          0             8                  2   \n",
      "..   ...        ...        ...           ...                ...   \n",
      "240   NO          0          0            10                  2   \n",
      "241   NO          0          0             8                  3   \n",
      "242   NO          0          0            12                  1   \n",
      "243   NO          0          0            11                  2   \n",
      "244   NO          0          0             8                  1   \n",
      "\n",
      "     Incoming Wait Time  During Call Wait Time  Calls  \n",
      "0                   1.0                      4      1  \n",
      "1                   1.0                      3      1  \n",
      "2                   1.0                      3      1  \n",
      "3                   1.0                      4      1  \n",
      "4                   1.0                      4      1  \n",
      "..                  ...                    ...    ...  \n",
      "240                 NaN                      3      1  \n",
      "241                 NaN                      2      1  \n",
      "242                 NaN                      2      1  \n",
      "243                 NaN                      2      1  \n",
      "244                 NaN                      4      1  \n",
      "\n",
      "[245 rows x 14 columns]\n"
     ]
    }
   ],
   "source": [
    "#Code Used\n",
    "# Add Additional Cells as needed.\n",
    "# Correction made here:\n",
    "#north_df['Sale'].value_counts()\n",
    "print(north_df['Sale'].value_counts())\n",
    "\n",
    "#Previous answer below:\n",
    "north_df['Sale']= north_df['Sale'].str.strip()\n",
    "print(north_df['Sale'].value_counts())\n",
    "print(north_df)"
   ]
  },
  {
   "cell_type": "markdown",
   "id": "715f375a",
   "metadata": {},
   "source": [
    "#### Cleaning Question 3:  Are there duplicates in the two data sets? If there are, how did you handle them?\n",
    "##### Record your answer by double clicking here:\n",
    "> Your Answer: There are not duplicates that I see."
   ]
  },
  {
   "cell_type": "code",
   "execution_count": 163,
   "id": "2323673a",
   "metadata": {},
   "outputs": [],
   "source": [
    "#Code Used\n",
    "# Add Additional Cells as needed."
   ]
  },
  {
   "cell_type": "markdown",
   "id": "8ffaa865",
   "metadata": {},
   "source": [
    "#### Cleaning Question 4:  Is any of the data in the two data sets unnecessary? If yes, how did you handle it?\n",
    "##### Record your answer by double clicking here:\n",
    "> Your Answer: Tried repeatedly to drop Unnamed because it has no real function - but it will not drop the columns despite my best efforts."
   ]
  },
  {
   "cell_type": "markdown",
   "id": "f67d89ab",
   "metadata": {},
   "source": [
    "<span style=\"background-color:orangered; color:orangered;\">- - - - - - - - - - - - - - - - - - - - - - - - - - - - - - - - - - - - - - - - - - - - - - - - - - - - - - - - - - - - - - - - - - - - - - - - - - - - - - - - - - - - - - - - -</span>"
   ]
  },
  {
   "cell_type": "markdown",
   "id": "73342a9a",
   "metadata": {},
   "source": [
    "## Data Manipulation\n",
    "Before you begin answering any questions, combine the two datasets together to create a third dataframe called df. You can use this third dataframe to compare the two call centers to company-wide trends.\n",
    "* Add additional code blocks as needed to show how you came to your conclusions. Add comments in your code blocks to help others understand your thinking. Record your answer by double clicking the below cell."
   ]
  },
  {
   "cell_type": "code",
   "execution_count": 164,
   "id": "e9705c34",
   "metadata": {},
   "outputs": [
    {
     "data": {
      "text/html": [
       "<div>\n",
       "<style scoped>\n",
       "    .dataframe tbody tr th:only-of-type {\n",
       "        vertical-align: middle;\n",
       "    }\n",
       "\n",
       "    .dataframe tbody tr th {\n",
       "        vertical-align: top;\n",
       "    }\n",
       "\n",
       "    .dataframe thead th {\n",
       "        text-align: right;\n",
       "    }\n",
       "</style>\n",
       "<table border=\"1\" class=\"dataframe\">\n",
       "  <thead>\n",
       "    <tr style=\"text-align: right;\">\n",
       "      <th></th>\n",
       "      <th></th>\n",
       "      <th>Branch</th>\n",
       "      <th>Call Purpose</th>\n",
       "      <th>Time Block</th>\n",
       "      <th>Incoming or Outgoing</th>\n",
       "      <th>Queue</th>\n",
       "      <th>Rep ID</th>\n",
       "      <th>Sale</th>\n",
       "      <th>Lost Call</th>\n",
       "      <th>Abandoned</th>\n",
       "      <th>Busy Minutes</th>\n",
       "      <th>Not Ready Minutes</th>\n",
       "      <th>Incoming Wait Time</th>\n",
       "      <th>During Call Wait Time</th>\n",
       "      <th>Calls</th>\n",
       "    </tr>\n",
       "  </thead>\n",
       "  <tbody>\n",
       "    <tr>\n",
       "      <th rowspan=\"5\" valign=\"top\">N</th>\n",
       "      <th>0</th>\n",
       "      <td>North</td>\n",
       "      <td>Complaint</td>\n",
       "      <td>9:00 AM</td>\n",
       "      <td>Incoming</td>\n",
       "      <td>B</td>\n",
       "      <td>Brent</td>\n",
       "      <td>NO</td>\n",
       "      <td>0</td>\n",
       "      <td>1</td>\n",
       "      <td>9</td>\n",
       "      <td>2</td>\n",
       "      <td>1.0</td>\n",
       "      <td>4</td>\n",
       "      <td>1</td>\n",
       "    </tr>\n",
       "    <tr>\n",
       "      <th>1</th>\n",
       "      <td>North</td>\n",
       "      <td>Sales Support</td>\n",
       "      <td>11:00 AM</td>\n",
       "      <td>Incoming</td>\n",
       "      <td>A</td>\n",
       "      <td>Cam</td>\n",
       "      <td>NO</td>\n",
       "      <td>0</td>\n",
       "      <td>0</td>\n",
       "      <td>11</td>\n",
       "      <td>1</td>\n",
       "      <td>1.0</td>\n",
       "      <td>3</td>\n",
       "      <td>1</td>\n",
       "    </tr>\n",
       "    <tr>\n",
       "      <th>2</th>\n",
       "      <td>North</td>\n",
       "      <td>Sales Support</td>\n",
       "      <td>11:00 AM</td>\n",
       "      <td>Incoming</td>\n",
       "      <td>B</td>\n",
       "      <td>Todd</td>\n",
       "      <td>NO</td>\n",
       "      <td>0</td>\n",
       "      <td>0</td>\n",
       "      <td>9</td>\n",
       "      <td>3</td>\n",
       "      <td>1.0</td>\n",
       "      <td>3</td>\n",
       "      <td>1</td>\n",
       "    </tr>\n",
       "    <tr>\n",
       "      <th>3</th>\n",
       "      <td>North</td>\n",
       "      <td>Sales Support</td>\n",
       "      <td>4:00 PM</td>\n",
       "      <td>Incoming</td>\n",
       "      <td>B</td>\n",
       "      <td>Brent</td>\n",
       "      <td>NO</td>\n",
       "      <td>0</td>\n",
       "      <td>0</td>\n",
       "      <td>11</td>\n",
       "      <td>2</td>\n",
       "      <td>1.0</td>\n",
       "      <td>4</td>\n",
       "      <td>1</td>\n",
       "    </tr>\n",
       "    <tr>\n",
       "      <th>4</th>\n",
       "      <td>North</td>\n",
       "      <td>Product Support</td>\n",
       "      <td>12:00 PM</td>\n",
       "      <td>Incoming</td>\n",
       "      <td>B</td>\n",
       "      <td>Brent</td>\n",
       "      <td>NO</td>\n",
       "      <td>0</td>\n",
       "      <td>0</td>\n",
       "      <td>8</td>\n",
       "      <td>2</td>\n",
       "      <td>1.0</td>\n",
       "      <td>4</td>\n",
       "      <td>1</td>\n",
       "    </tr>\n",
       "    <tr>\n",
       "      <th>...</th>\n",
       "      <th>...</th>\n",
       "      <td>...</td>\n",
       "      <td>...</td>\n",
       "      <td>...</td>\n",
       "      <td>...</td>\n",
       "      <td>...</td>\n",
       "      <td>...</td>\n",
       "      <td>...</td>\n",
       "      <td>...</td>\n",
       "      <td>...</td>\n",
       "      <td>...</td>\n",
       "      <td>...</td>\n",
       "      <td>...</td>\n",
       "      <td>...</td>\n",
       "      <td>...</td>\n",
       "    </tr>\n",
       "    <tr>\n",
       "      <th rowspan=\"5\" valign=\"top\">S</th>\n",
       "      <th>309</th>\n",
       "      <td>South</td>\n",
       "      <td>Product Support</td>\n",
       "      <td>5:00 PM</td>\n",
       "      <td>Outgoing</td>\n",
       "      <td>D</td>\n",
       "      <td>Helga</td>\n",
       "      <td>NO</td>\n",
       "      <td>0</td>\n",
       "      <td>0</td>\n",
       "      <td>10</td>\n",
       "      <td>3</td>\n",
       "      <td>NaN</td>\n",
       "      <td>4</td>\n",
       "      <td>1</td>\n",
       "    </tr>\n",
       "    <tr>\n",
       "      <th>310</th>\n",
       "      <td>South</td>\n",
       "      <td>Product Support</td>\n",
       "      <td>5:00 PM</td>\n",
       "      <td>Outgoing</td>\n",
       "      <td>C</td>\n",
       "      <td>Susan</td>\n",
       "      <td>NO</td>\n",
       "      <td>0</td>\n",
       "      <td>0</td>\n",
       "      <td>12</td>\n",
       "      <td>3</td>\n",
       "      <td>NaN</td>\n",
       "      <td>4</td>\n",
       "      <td>1</td>\n",
       "    </tr>\n",
       "    <tr>\n",
       "      <th>311</th>\n",
       "      <td>South</td>\n",
       "      <td>Product Support</td>\n",
       "      <td>5:00 PM</td>\n",
       "      <td>Outgoing</td>\n",
       "      <td>C</td>\n",
       "      <td>Sandy</td>\n",
       "      <td>NO</td>\n",
       "      <td>0</td>\n",
       "      <td>0</td>\n",
       "      <td>9</td>\n",
       "      <td>3</td>\n",
       "      <td>NaN</td>\n",
       "      <td>4</td>\n",
       "      <td>1</td>\n",
       "    </tr>\n",
       "    <tr>\n",
       "      <th>312</th>\n",
       "      <td>South</td>\n",
       "      <td>Product Support</td>\n",
       "      <td>5:00 PM</td>\n",
       "      <td>Outgoing</td>\n",
       "      <td>C</td>\n",
       "      <td>Eric</td>\n",
       "      <td>NO</td>\n",
       "      <td>0</td>\n",
       "      <td>0</td>\n",
       "      <td>10</td>\n",
       "      <td>1</td>\n",
       "      <td>NaN</td>\n",
       "      <td>2</td>\n",
       "      <td>1</td>\n",
       "    </tr>\n",
       "    <tr>\n",
       "      <th>313</th>\n",
       "      <td>South</td>\n",
       "      <td>Product Support</td>\n",
       "      <td>5:00 PM</td>\n",
       "      <td>Outgoing</td>\n",
       "      <td>D</td>\n",
       "      <td>George</td>\n",
       "      <td>NO</td>\n",
       "      <td>0</td>\n",
       "      <td>0</td>\n",
       "      <td>10</td>\n",
       "      <td>2</td>\n",
       "      <td>NaN</td>\n",
       "      <td>3</td>\n",
       "      <td>1</td>\n",
       "    </tr>\n",
       "  </tbody>\n",
       "</table>\n",
       "<p>559 rows × 14 columns</p>\n",
       "</div>"
      ],
      "text/plain": [
       "      Branch     Call Purpose Time Block Incoming or Outgoing Queue  Rep ID  \\\n",
       "N 0    North        Complaint    9:00 AM             Incoming     B   Brent   \n",
       "  1    North    Sales Support   11:00 AM             Incoming     A     Cam   \n",
       "  2    North    Sales Support   11:00 AM             Incoming     B    Todd   \n",
       "  3    North    Sales Support    4:00 PM             Incoming     B   Brent   \n",
       "  4    North  Product Support   12:00 PM             Incoming     B   Brent   \n",
       "...      ...              ...        ...                  ...   ...     ...   \n",
       "S 309  South  Product Support    5:00 PM             Outgoing     D   Helga   \n",
       "  310  South  Product Support    5:00 PM             Outgoing     C   Susan   \n",
       "  311  South  Product Support    5:00 PM             Outgoing     C   Sandy   \n",
       "  312  South  Product Support    5:00 PM             Outgoing     C    Eric   \n",
       "  313  South  Product Support    5:00 PM             Outgoing     D  George   \n",
       "\n",
       "      Sale  Lost Call  Abandoned  Busy Minutes  Not Ready Minutes  \\\n",
       "N 0     NO          0          1             9                  2   \n",
       "  1     NO          0          0            11                  1   \n",
       "  2     NO          0          0             9                  3   \n",
       "  3     NO          0          0            11                  2   \n",
       "  4     NO          0          0             8                  2   \n",
       "...    ...        ...        ...           ...                ...   \n",
       "S 309   NO          0          0            10                  3   \n",
       "  310   NO          0          0            12                  3   \n",
       "  311   NO          0          0             9                  3   \n",
       "  312   NO          0          0            10                  1   \n",
       "  313   NO          0          0            10                  2   \n",
       "\n",
       "       Incoming Wait Time  During Call Wait Time  Calls  \n",
       "N 0                   1.0                      4      1  \n",
       "  1                   1.0                      3      1  \n",
       "  2                   1.0                      3      1  \n",
       "  3                   1.0                      4      1  \n",
       "  4                   1.0                      4      1  \n",
       "...                   ...                    ...    ...  \n",
       "S 309                 NaN                      4      1  \n",
       "  310                 NaN                      4      1  \n",
       "  311                 NaN                      4      1  \n",
       "  312                 NaN                      2      1  \n",
       "  313                 NaN                      3      1  \n",
       "\n",
       "[559 rows x 14 columns]"
      ]
     },
     "execution_count": 164,
     "metadata": {},
     "output_type": "execute_result"
    }
   ],
   "source": [
    "# Create dataframe for the entire company named df\n",
    "# Since it looks like we will still be separating data from North and South - setting this up as frames/ keys:\n",
    "frames = [north_df, south_df]\n",
    "df_keys = pd.concat(frames, keys=['N', 'S'])\n",
    "\n",
    "df_keys"
   ]
  },
  {
   "cell_type": "markdown",
   "id": "7e87dfd1",
   "metadata": {},
   "source": [
    "#### Manipulation Question 1:  Group by Rep ID and sum the resulting structure. Sort by calls to determine which rep in each branch has the highest number of calls.\n",
    "\n",
    "##### Record your answer by double clicking here:\n",
    "Rep with the hightest number of calls and their total calls: Brent 37\n",
    "- North Branch = 245\n",
    "- South Branch = 314\n"
   ]
  },
  {
   "cell_type": "code",
   "execution_count": 165,
   "id": "3953f09a",
   "metadata": {},
   "outputs": [
    {
     "name": "stdout",
     "output_type": "stream",
     "text": [
      "        Lost Call  Abandoned  Busy Minutes  Not Ready Minutes  \\\n",
      "Rep ID                                                          \n",
      "Alice           0          0           199                 46   \n",
      "Amanda          0          1           229                 43   \n",
      "Andy            0          3           228                 43   \n",
      "Cam             1          0           233                 46   \n",
      "Xander          1          0           244                 44   \n",
      "Sharon          1          1           257                 38   \n",
      "Josh            3          0           260                 50   \n",
      "Susan           2          0           267                 53   \n",
      "Joe             0          0           256                 49   \n",
      "Karl            1          0           287                 61   \n",
      "Duke            2          0           292                 56   \n",
      "George          0          0           298                 53   \n",
      "Todd            1          0           296                 58   \n",
      "Kate            0          0           291                 61   \n",
      "Lilly           0          2           307                 59   \n",
      "Helga           0          2           292                 58   \n",
      "Sandy           1          0           325                 60   \n",
      "Randy           3          1           320                 66   \n",
      "Eric            0          0           361                 54   \n",
      "Brent           0          1           362                 71   \n",
      "\n",
      "        Incoming Wait Time  During Call Wait Time  Calls  \n",
      "Rep ID                                                    \n",
      "Alice                 15.0                     58     20  \n",
      "Amanda                12.0                     60     23  \n",
      "Andy                  36.0                     65     23  \n",
      "Cam                   32.0                     66     24  \n",
      "Xander                20.0                     68     24  \n",
      "Sharon                29.0                     77     25  \n",
      "Josh                  31.0                     83     26  \n",
      "Susan                 35.0                     88     26  \n",
      "Joe                   36.0                     81     26  \n",
      "Karl                  26.0                     85     28  \n",
      "Duke                  39.0                     85     29  \n",
      "George                41.0                     87     29  \n",
      "Todd                  21.0                     97     29  \n",
      "Kate                  37.0                     83     29  \n",
      "Lilly                 37.0                     88     30  \n",
      "Helga                 36.0                     95     31  \n",
      "Sandy                 34.0                    100     32  \n",
      "Randy                 47.0                     98     33  \n",
      "Eric                  47.0                    112     35  \n",
      "Brent                 17.0                    117     37  \n"
     ]
    },
    {
     "name": "stderr",
     "output_type": "stream",
     "text": [
      "C:\\Users\\angel\\AppData\\Local\\Temp\\ipykernel_2732\\3760881954.py:3: FutureWarning: The default value of numeric_only in DataFrameGroupBy.sum is deprecated. In a future version, numeric_only will default to False. Either specify numeric_only or select only columns which should be valid for the function.\n",
      "  rep_totals = df_keys.groupby('Rep ID').sum().sort_values('Calls')\n"
     ]
    }
   ],
   "source": [
    "# Code Used\n",
    "# Add Additional Cells as needed.\n",
    "rep_totals = df_keys.groupby('Rep ID').sum().sort_values('Calls')\n",
    "\n",
    "print(rep_totals)"
   ]
  },
  {
   "cell_type": "code",
   "execution_count": 166,
   "id": "48898029",
   "metadata": {},
   "outputs": [
    {
     "name": "stdout",
     "output_type": "stream",
     "text": [
      "        Lost Call  Abandoned  Busy Minutes  Not Ready Minutes  \\\n",
      "Rep ID                                                          \n",
      "Amanda          0          1           229                 43   \n",
      "Andy            0          3           228                 43   \n",
      "Cam             1          0           233                 46   \n",
      "Xander          1          0           244                 44   \n",
      "Joe             0          0           256                 49   \n",
      "Duke            2          0           292                 56   \n",
      "Todd            1          0           296                 58   \n",
      "Lilly           0          2           307                 59   \n",
      "Brent           0          1           362                 71   \n",
      "\n",
      "        Incoming Wait Time  During Call Wait Time  Calls  \n",
      "Rep ID                                                    \n",
      "Amanda                12.0                     60     23  \n",
      "Andy                  36.0                     65     23  \n",
      "Cam                   32.0                     66     24  \n",
      "Xander                20.0                     68     24  \n",
      "Joe                   36.0                     81     26  \n",
      "Duke                  39.0                     85     29  \n",
      "Todd                  21.0                     97     29  \n",
      "Lilly                 37.0                     88     30  \n",
      "Brent                 17.0                    117     37  \n"
     ]
    },
    {
     "name": "stderr",
     "output_type": "stream",
     "text": [
      "C:\\Users\\angel\\AppData\\Local\\Temp\\ipykernel_2732\\855984804.py:1: FutureWarning: The default value of numeric_only in DataFrameGroupBy.sum is deprecated. In a future version, numeric_only will default to False. Either specify numeric_only or select only columns which should be valid for the function.\n",
      "  rep_totals_north = north_df.groupby('Rep ID').sum().sort_values('Calls')\n"
     ]
    }
   ],
   "source": [
    "rep_totals_north = north_df.groupby('Rep ID').sum().sort_values('Calls')\n",
    "\n",
    "print(rep_totals_north)"
   ]
  },
  {
   "cell_type": "code",
   "execution_count": 167,
   "id": "de2ed88d",
   "metadata": {},
   "outputs": [
    {
     "name": "stdout",
     "output_type": "stream",
     "text": [
      "        Lost Call  Abandoned  Busy Minutes  Not Ready Minutes  \\\n",
      "Rep ID                                                          \n",
      "Alice           0          0           199                 46   \n",
      "Sharon          1          1           257                 38   \n",
      "Josh            3          0           260                 50   \n",
      "Susan           2          0           267                 53   \n",
      "Karl            1          0           287                 61   \n",
      "George          0          0           298                 53   \n",
      "Kate            0          0           291                 61   \n",
      "Helga           0          2           292                 58   \n",
      "Sandy           1          0           325                 60   \n",
      "Randy           3          1           320                 66   \n",
      "Eric            0          0           361                 54   \n",
      "\n",
      "        Incoming Wait Time  During Call Wait Time  Calls  \n",
      "Rep ID                                                    \n",
      "Alice                 15.0                     58     20  \n",
      "Sharon                29.0                     77     25  \n",
      "Josh                  31.0                     83     26  \n",
      "Susan                 35.0                     88     26  \n",
      "Karl                  26.0                     85     28  \n",
      "George                41.0                     87     29  \n",
      "Kate                  37.0                     83     29  \n",
      "Helga                 36.0                     95     31  \n",
      "Sandy                 34.0                    100     32  \n",
      "Randy                 47.0                     98     33  \n",
      "Eric                  47.0                    112     35  \n"
     ]
    },
    {
     "name": "stderr",
     "output_type": "stream",
     "text": [
      "C:\\Users\\angel\\AppData\\Local\\Temp\\ipykernel_2732\\1059032163.py:1: FutureWarning: The default value of numeric_only in DataFrameGroupBy.sum is deprecated. In a future version, numeric_only will default to False. Either specify numeric_only or select only columns which should be valid for the function.\n",
      "  rep_totals_south = south_df.groupby('Rep ID').sum().sort_values('Calls')\n"
     ]
    }
   ],
   "source": [
    "rep_totals_south = south_df.groupby('Rep ID').sum().sort_values('Calls')\n",
    "\n",
    "print(rep_totals_south)"
   ]
  },
  {
   "cell_type": "code",
   "execution_count": 168,
   "id": "66058676",
   "metadata": {},
   "outputs": [
    {
     "name": "stdout",
     "output_type": "stream",
     "text": [
      "245\n"
     ]
    }
   ],
   "source": [
    "north_totals = north_df['Calls'].sum()\n",
    "\n",
    "print(north_totals)"
   ]
  },
  {
   "cell_type": "code",
   "execution_count": 169,
   "id": "cc5d77ca",
   "metadata": {},
   "outputs": [
    {
     "name": "stdout",
     "output_type": "stream",
     "text": [
      "314\n"
     ]
    }
   ],
   "source": [
    "south_totals = south_df['Calls'].sum()\n",
    "\n",
    "print(south_totals)"
   ]
  },
  {
   "cell_type": "markdown",
   "id": "809293b9",
   "metadata": {},
   "source": [
    "#### Manipulation Question 2:  The average call abandonment rate is a KPI when it comes to determining call center efficiency. As you may recall, abandoned calls are calls where the customer hangs up due to long call times. What is the average call abandonment rate for each branch and the whole company? Do any of these fall out of the optimal range of 2-5%?\n",
    "##### Record your answer by double clicking here:\n",
    "Average Call Abandonment Rates (round to the nearest hundredth):\n",
    "- North Branch = 0.03\n",
    "- South Branch = 0.01\n",
    "- Company Wide = 0.04\n",
    "- Do any of these fall out of the optimal range of 2-5%?  Not yet"
   ]
  },
  {
   "cell_type": "code",
   "execution_count": 170,
   "id": "3dff7534",
   "metadata": {},
   "outputs": [
    {
     "name": "stdout",
     "output_type": "stream",
     "text": [
      "0.02857142857142857\n"
     ]
    }
   ],
   "source": [
    "# Code Used\n",
    "# Add Additional Cells as needed.\n",
    "#north_abandon = north_df.loc[:, 'Abandoned'].mean()\n",
    "#print(north_abandon)\n",
    "\n",
    "#avg_north_abandon = north_df[['Abandoned', 'Calls']].mean(axis=1)\n",
    "#print(avg_north_abandon)\n",
    "\n",
    "north_abandon = north_df['Abandoned'].sum()\n",
    "avg_north_abandon = north_abandon / north_totals\n",
    "print(avg_north_abandon)"
   ]
  },
  {
   "cell_type": "code",
   "execution_count": 171,
   "id": "ac623795",
   "metadata": {},
   "outputs": [
    {
     "name": "stdout",
     "output_type": "stream",
     "text": [
      "0.012738853503184714\n",
      "0.041310282074613285\n"
     ]
    }
   ],
   "source": [
    "#south_abandon = south_df.loc[:, 'Abandoned'].mean()\n",
    "#print(south_abandon)\n",
    "\n",
    "#avg_south_abandon = south_df[['Abandoned', 'Calls']].mean(axis=1)\n",
    "#print(avg_south_abandon)\n",
    "\n",
    "south_abandon = south_df['Abandoned'].sum()\n",
    "avg_south_abandon = south_abandon / south_totals\n",
    "print(avg_south_abandon)\n",
    "\n",
    "print(avg_north_abandon + avg_south_abandon)"
   ]
  },
  {
   "cell_type": "markdown",
   "id": "598bb1bf",
   "metadata": {},
   "source": [
    "#### Manipulation Question 3:  Service level is another KPI when it comes to measuring call center efficiency. Service level is the percentage of calls answered within a specific number of seconds. In the case of your employer, their ideal time frame is 2 seconds. What is the percentage of calls answered within 2 seconds for each branch and the entire company?\n",
    "##### Record your answer by double clicking here:\n",
    "Percentage of calls answered within 2 seconds, include # of calls:\n",
    "- North Branch = 33 calls, or about 40%\n",
    "- South Branch = 48 calls, or about 38%\n",
    "- Company Wide = 81 calls, or about 81%"
   ]
  },
  {
   "cell_type": "code",
   "execution_count": 172,
   "id": "2fc8f669",
   "metadata": {},
   "outputs": [
    {
     "name": "stdout",
     "output_type": "stream",
     "text": [
      "33\n",
      "0.4024390243902439\n"
     ]
    }
   ],
   "source": [
    "# Code Used\n",
    "# Add Additional Cells as needed.\n",
    "#Prior Answer:\n",
    "#inbound_wait_north_counts = north_df.value_counts('Incoming Wait Time')\n",
    "#print(inbound_wait_north_counts)\n",
    "\n",
    "#inbound_wait_north_percs = north_df.value_counts('Incoming Wait Time', normalize=True)\n",
    "#print(inbound_wait_north_percs)\n",
    "\n",
    "#pd.concat([inbound_wait_north_counts, inbound_wait_north_percs], axis=1, keys=['Ncounts', 'Npercentage'])\n",
    "\n",
    "inbound_wait_north = len(north_df[north_df['Incoming Wait Time'] <= 2.0 ])\n",
    "print(inbound_wait_north)\n",
    "\n",
    "north_incoming = north_df['Incoming or Outgoing'].value_counts()['Incoming']\n",
    "print(inbound_wait_north / north_incoming)\n"
   ]
  },
  {
   "cell_type": "code",
   "execution_count": 173,
   "id": "ee17253c",
   "metadata": {},
   "outputs": [
    {
     "name": "stdout",
     "output_type": "stream",
     "text": [
      "48\n",
      "0.38095238095238093\n"
     ]
    }
   ],
   "source": [
    "#Now for South - also looking for the 2 second Inbound wait time...\n",
    "#inbound_wait_south_counts = south_df.value_counts('Incoming Wait Time')\n",
    "#print(inbound_wait_south_counts)\n",
    "#inbound_wait_south_percs = south_df.value_counts('Incoming Wait Time', normalize=True)\n",
    "#print(inbound_wait_south_percs)\n",
    "#pd.concat([inbound_wait_south_counts, inbound_wait_south_percs], axis=1, keys=['Scounts', 'Spercentage'])\n",
    "\n",
    "inbound_wait_south = len(south_df[south_df['Incoming Wait Time'] <= 2.0 ])\n",
    "print(inbound_wait_south)\n",
    "\n",
    "south_incoming = south_df['Incoming or Outgoing'].value_counts()['Incoming']\n",
    "print(inbound_wait_south / south_incoming)"
   ]
  },
  {
   "cell_type": "code",
   "execution_count": 174,
   "id": "d628e569",
   "metadata": {
    "scrolled": true
   },
   "outputs": [
    {
     "name": "stdout",
     "output_type": "stream",
     "text": [
      "81\n",
      "0.3894230769230769\n"
     ]
    }
   ],
   "source": [
    "#inbound_wait_company_counts = df_keys.value_counts('Incoming Wait Time')\n",
    "#print(inbound_wait_company_counts)\n",
    "\n",
    "#inbound_wait_company_percs = df_keys.value_counts('Incoming Wait Time', normalize=True)\n",
    "#print(inbound_wait_company_percs)\n",
    "\n",
    "#pd.concat([inbound_wait_company_counts, inbound_wait_company_percs], axis=1, keys=['CO_counts', 'CO_percentage'])\n",
    "\n",
    "inbound_wait_company = len(df_keys[df_keys['Incoming Wait Time'] <= 2.0 ])\n",
    "print(inbound_wait_company)\n",
    "\n",
    "company_incoming = df_keys['Incoming or Outgoing'].value_counts()['Incoming']\n",
    "print(inbound_wait_company / company_incoming)"
   ]
  },
  {
   "cell_type": "markdown",
   "id": "7e19e705",
   "metadata": {},
   "source": [
    "#### Manipulation Question 4: For each branch and the entire company, what is the average speed of answer?\n",
    "##### Record your answer by double clicking here:\n",
    "Average speed of answer (rounded to nearest hundredth):\n",
    "- North Branch in seconds = 3.05\n",
    "- South Branch in seconds = 3.00\n",
    "- Company Wide in seconds = 3.01\n"
   ]
  },
  {
   "cell_type": "code",
   "execution_count": 175,
   "id": "72a653ed",
   "metadata": {},
   "outputs": [
    {
     "data": {
      "text/plain": [
       "count    82.000000\n",
       "mean      3.048780\n",
       "std       1.456382\n",
       "min       1.000000\n",
       "25%       2.000000\n",
       "50%       3.000000\n",
       "75%       4.000000\n",
       "max       5.000000\n",
       "Name: Incoming Wait Time, dtype: float64"
      ]
     },
     "execution_count": 175,
     "metadata": {},
     "output_type": "execute_result"
    }
   ],
   "source": [
    "# Code Used \n",
    "north_df['Incoming Wait Time'].describe()\n"
   ]
  },
  {
   "cell_type": "code",
   "execution_count": 176,
   "id": "a05362c9",
   "metadata": {},
   "outputs": [
    {
     "data": {
      "text/plain": [
       "count    126.000000\n",
       "mean       3.000000\n",
       "std        1.308434\n",
       "min        1.000000\n",
       "25%        2.000000\n",
       "50%        3.000000\n",
       "75%        4.000000\n",
       "max        5.000000\n",
       "Name: Incoming Wait Time, dtype: float64"
      ]
     },
     "execution_count": 176,
     "metadata": {},
     "output_type": "execute_result"
    }
   ],
   "source": [
    "south_df['Incoming Wait Time'].describe()"
   ]
  },
  {
   "cell_type": "code",
   "execution_count": 177,
   "id": "659c6a1b",
   "metadata": {},
   "outputs": [
    {
     "data": {
      "text/plain": [
       "count    208.000000\n",
       "mean       3.019231\n",
       "std        1.365417\n",
       "min        1.000000\n",
       "25%        2.000000\n",
       "50%        3.000000\n",
       "75%        4.000000\n",
       "max        5.000000\n",
       "Name: Incoming Wait Time, dtype: float64"
      ]
     },
     "execution_count": 177,
     "metadata": {},
     "output_type": "execute_result"
    }
   ],
   "source": [
    "df_keys['Incoming Wait Time'].describe()"
   ]
  },
  {
   "cell_type": "markdown",
   "id": "ba3ca2cd",
   "metadata": {},
   "source": [
    "<span style=\"background-color:orangered; color:orangered;\">- - - - - - - - - - - - - - - - - - - - - - - - - - - - - - - - - - - - - - - - - - - - - - - - - - - - - - - - - - - - - - - - - - - - - - - - - - - - - - - - - - - - - - - - -</span>"
   ]
  },
  {
   "cell_type": "markdown",
   "id": "d5f50a40",
   "metadata": {},
   "source": [
    "## Visualization\n",
    "\n",
    "Create a visualization for each of the following questions. Some of the code to handle aggregating and storing data may be written for you. For each visualization, you choose the chart style that you feel suits the situation best. Make note of the chart style you chose and why. \n",
    "\n",
    "*NOTE Some questions you may decide to use more than one chart and or chart style."
   ]
  },
  {
   "cell_type": "markdown",
   "id": "66ccf83c",
   "metadata": {},
   "source": [
    "#### Visualization 1:  What is the average abandonment rate per queue?\n",
    "##### Record your answer by double clicking here:\n",
    "\n",
    "> Chart style you chose and why: I like fivethirtyeight. Homework is stressful enough - the colors give me joy. Bar charts are nice to visualize comparisons, as we are doing per queues."
   ]
  },
  {
   "cell_type": "code",
   "execution_count": 178,
   "id": "c971d779",
   "metadata": {
    "scrolled": true
   },
   "outputs": [
    {
     "name": "stderr",
     "output_type": "stream",
     "text": [
      "C:\\Users\\angel\\AppData\\Local\\Temp\\ipykernel_2732\\1754189857.py:17: FutureWarning: The default value of numeric_only in DataFrameGroupBy.sum is deprecated. In a future version, numeric_only will default to False. Either specify numeric_only or select only columns which should be valid for the function.\n",
      "  queue_dict = df_keys.groupby(\"Queue\").agg(\"sum\")\n",
      "No artists with labels found to put in legend.  Note that artists whose label start with an underscore are ignored when legend() is called with no argument.\n"
     ]
    },
    {
     "data": {
      "image/png": "[encoded data removed]",
      "text/plain": [
       "<Figure size 2000x1000 with 1 Axes>"
      ]
     },
     "metadata": {},
     "output_type": "display_data"
    }
   ],
   "source": [
    "# Create visualization 1 here\n",
    "# Import any additional libraries needed with alias\n",
    "\n",
    "import pandas as pd\n",
    "import numpy as np\n",
    "import seaborn as sb\n",
    "import matplotlib.pyplot as plt\n",
    "from matplotlib import style\n",
    "# setting style for graphs\n",
    "style.use('fivethirtyeight')\n",
    "plt.rcParams['figure.figsize'] = (20,10)\n",
    "\n",
    "\n",
    "# The dictionary abandonment_rates has the data you need.\n",
    "abandonment_rates = {}\n",
    "queues = [\"A\", \"B\", \"C\", \"D\"]\n",
    "queue_dict = df_keys.groupby(\"Queue\").agg(\"sum\")\n",
    "for i in range(4):\n",
    "    abandonment_rates[queues[i]] = queue_dict[\"Abandoned\"][i] / queue_dict[\"Calls\"][i] \n",
    "\n",
    "#Your Code Here:\n",
    "#abandonment_rates.pyplot.plot.bar(edgecolor = 'orange')\n",
    "plt.bar(list(abandonment_rates.keys()), list(abandonment_rates.values()))\n",
    "plt.title('Abandoned Calls by Queue', color = 'black')\n",
    "plt.xlabel('Queues', color = 'black')\n",
    "plt.ylabel('Number of Abandons', color = 'black')\n",
    "plt.legend(fontsize = 12)\n",
    "plt.xticks(color = 'black')\n",
    "plt.yticks(color = 'black')\n",
    "plt.savefig('area_unstacked.png')\n",
    "\n",
    "plt.show()\n",
    "\n"
   ]
  },
  {
   "cell_type": "markdown",
   "id": "4a9fc77f",
   "metadata": {},
   "source": [
    "#### Visualization 2: What is the service level percentage and average speed of answer for each rep in the North Branch?\n",
    "##### Record your answer by double clicking here:\n",
    "\n",
    "> Chart style you chose and why: Horizonal Multi-Bar Chart to have the side by side comparisons."
   ]
  },
  {
   "cell_type": "code",
   "execution_count": 202,
   "id": "61f65a7f",
   "metadata": {},
   "outputs": [
    {
     "data": {
      "image/png": "[encoded data removed]",
      "text/plain": [
       "<Figure size 2000x1000 with 1 Axes>"
      ]
     },
     "metadata": {},
     "output_type": "display_data"
    }
   ],
   "source": [
    "# Create visualization 2 here\n",
    "# north_plt contains the data you need for the average speed of answer of each rep\n",
    "\n",
    "north_plt = north_df.groupby(\"Rep ID\")[\"Incoming Wait Time\"].mean().to_frame().reset_index()\n",
    "\n",
    "# Finding each Rep's Personal Service Level Percentage.  Basically, Calls within 2 secs / total calls\n",
    "\n",
    "# Table 1: Total Incoming calls less than 2 seconds grouped by Rep\n",
    "quick_calls = north_df[north_df[\"Incoming Wait Time\"] <= 2.0]\n",
    "quick_reps = quick_calls[[\"Rep ID\", \"Calls\"]]\n",
    "quick_stats = quick_reps.groupby([\"Rep ID\"]).sum()  # Final Table\n",
    "\n",
    "\n",
    "# Table 2: Total Incoming Calls Only grouped by Rep\n",
    "total_calls_in = north_df[north_df[\"Incoming or Outgoing\"] == \"Incoming\"]\n",
    "rep_calls = total_calls_in[[\"Rep ID\", \"Calls\"]]     \n",
    "total_stats = rep_calls.groupby([\"Rep ID\"]).sum() # Final Table  \n",
    "\n",
    "#  Table 3: Service Level Percentage created via merge\n",
    "service_level = pd.merge(quick_stats, total_stats, on=\"Rep ID\")\n",
    "\n",
    "# Create Percentage Column in Table 3\n",
    "service_level[\"Service Level %\"] = service_level[\"Calls_x\"]/service_level[\"Calls_y\"] * 100\n",
    "\n",
    "#Your Code Here:\n",
    "#ax = service_level.plot.bar(edgecolor = 'white')  <- Previous code\n",
    "#north_plt.plot.bar(ax=ax, edgecolor = 'white')\n",
    "ax = service_level['Service Level %'].plot.bar(edgecolor = 'white', color='orange')\n",
    "north_plt.plot.bar(ax=ax, edgecolor = 'white')\n",
    "plt.title('Service Level Percentage by Rep', color = 'black')\n",
    "plt.xticks(color='black')\n",
    "plt.yticks(color='black')\n",
    "plt.xlabel('Rep ID', color=\"black\")\n",
    "plt.ylabel('Calls', color='black')\n",
    "plt.legend(title=\"Call Center\", fontsize = 12)\n",
    "plt.savefig('grouped_bar_SvcLvl.png')\n",
    "\n",
    "plt.show()\n"
   ]
  },
  {
   "cell_type": "markdown",
   "id": "f965e41a",
   "metadata": {},
   "source": [
    "#### Visualization 3: For each type of call purpose, how many calls are outgoing vs. incoming?\n",
    "##### Record your answer by double clicking here:\n",
    "\n",
    "> Chart style you chose and why: Wanted a pie or donut to show how all of the calls - Inbound and Outbound - fit into the overall scheme of efficiency."
   ]
  },
  {
   "cell_type": "code",
   "execution_count": 248,
   "id": "44096730",
   "metadata": {},
   "outputs": [
    {
     "name": "stderr",
     "output_type": "stream",
     "text": [
      "No artists with labels found to put in legend.  Note that artists whose label start with an underscore are ignored when legend() is called with no argument.\n"
     ]
    },
    {
     "name": "stdout",
     "output_type": "stream",
     "text": [
      "Call Purpose     Incoming or Outgoing\n",
      "Complaint        Incoming                 51\n",
      "Product Support  Outgoing                228\n",
      "                 Incoming                 82\n",
      "Sales Support    Outgoing                123\n",
      "                 Incoming                 75\n",
      "Name: Incoming or Outgoing, dtype: int64\n"
     ]
    },
    {
     "data": {
      "image/png": "[encoded data removed]",
      "text/plain": [
       "<Figure size 2000x1000 with 1 Axes>"
      ]
     },
     "metadata": {},
     "output_type": "display_data"
    }
   ],
   "source": [
    "# Create visualization 3 here:\n",
    "# The three dictionaries, complaints, sales_support, and product_support, have the information you need\n",
    "\n",
    "purpose_group = df_keys.groupby('Call Purpose')\n",
    "call_purpose = ['Complaint', 'Product Support', 'Sales Support']\n",
    "purpose_counts = purpose_group['Incoming or Outgoing'].value_counts()\n",
    "print(purpose_counts)\n",
    "\n",
    "complaints = purpose_counts['Complaint'].to_dict()\n",
    "sales_support = purpose_counts['Sales Support'].to_dict()\n",
    "product_support = purpose_counts['Product Support'].to_dict()\n",
    "\n",
    "#Your Code Here:\n",
    "newdf = pd.DataFrame.from_dict(purpose_counts)  # <- passed dict to new dataframe... \n",
    "#ax = purpose_group[purpose_counts].plot.bar(edgecolor = 'white', color='orange') \n",
    "newdf.plot.bar(ax=ax, edgecolor = 'orange')\n",
    "plt.title('Call Purpose Incoming and Outgoing', color = 'black')\n",
    "plt.xticks(color='black')\n",
    "plt.yticks(color='black')\n",
    "plt.xlabel('Call Purpose', color=\"black\")\n",
    "plt.ylabel('Incoming or Outgoing', color='black')\n",
    "plt.legend(title=\"Call Center\", fontsize = 12)\n",
    "plt.savefig('grouped_bar_IncomingOutgoing.png')\n",
    "\n",
    "plt.show()\n",
    "\n",
    "\n"
   ]
  },
  {
   "cell_type": "markdown",
   "id": "fbbddea2",
   "metadata": {},
   "source": [
    "<span style=\"background-color:orangered; color:orangered;\">- - - - - - - - - - - - - - - - - - - - - - - - - - - - - - - - - - - - - - - - - - - - - - - - - - - - - - - - - - - - - - - - - - - - - - - - - - - - - - - - - - - - - - - - -</span>"
   ]
  },
  {
   "cell_type": "markdown",
   "id": "ea7ed568",
   "metadata": {},
   "source": [
    "## Summarize Your Work\n",
    "\n",
    "With what you know now about the two call centers and the entire company, answer the following questions. Note that while this is subjective, you should include relevant data to back up your opinion.\n"
   ]
  },
  {
   "cell_type": "markdown",
   "id": "d2fc3d13",
   "metadata": {},
   "source": [
    "#### Summary Question 1:  Using KPIs such as average abandonment rate, service level and average speed of answer, in your opinion, which one of the two branches is operating more efficiently? Why?\n",
    "\n",
    "##### Record your answer by double clicking here:\n",
    "> Your Answer: South Center is working slightly faster than North Center - both were about 3 seconds to answer lines, but North had a few areas where they were a few hundredths slower on Inbound calls than South. (North had 245 vs. 314 for South) If either facility had a person on leave, or a new hire just learning - it would have a negative impact to overall service levels.\n",
    "\n"
   ]
  },
  {
   "cell_type": "markdown",
   "id": "489f28d6",
   "metadata": {},
   "source": [
    "#### Summary Question 2: Based on the number of reps in each branch and how quickly the reps are working, in your opinion, which branch would benefit from the extra help?\n",
    "\n",
    "##### Record your answer by double clicking here:\n",
    "> Your Answer: North could use someone to help with Inbound calls.\n"
   ]
  },
  {
   "cell_type": "markdown",
   "id": "0b10a8c3",
   "metadata": {},
   "source": [
    "#### Summary Question 3: Now that you have explored the datasets, is there any data or information that you wish you had in this analysis?\n",
    "\n",
    "##### Record your answer by double clicking here:\n",
    "> Your Answer: Prompt Time, and Distress Callers (if applicable). This could lead to the abandonment, and higher call-back volume.\n"
   ]
  },
  {
   "cell_type": "markdown",
   "id": "b025c929",
   "metadata": {},
   "source": [
    "<span style=\"background-color:orangered; color:orangered;\">- - - - - - - - - - - - - - - - - - - - - - - - - - - - - - - - - - - - - - - - - - - - - - - - - - - - - - - - - - - - - - - - - - - - - - - - - - - - - - - - - - - - - - - - -</span>"
   ]
  },
  {
   "cell_type": "markdown",
   "id": "ce16f43d",
   "metadata": {},
   "source": [
    "## Bonus Mission\n",
    "Create a visualization that answers this question: For each call purpose, how many calls (incoming and outgoing) take place in each time block?\n",
    "##### Record your answer by double clicking here:\n",
    "\n",
    "> Chart style you chose and why: "
   ]
  },
  {
   "cell_type": "code",
   "execution_count": null,
   "id": "71b04f32",
   "metadata": {},
   "outputs": [],
   "source": [
    "# Create your Bonus Mission visualization here!\n",
    "call_times = df[[\"Time Block\", \"Call Purpose\", \"Incoming or Outgoing\", \"Calls\"]]\n",
    "\n",
    "# Use groupby to plot based on time blocks:\n",
    "\n",
    "# Use groupby and get_group to select which call purpose to plot:"
   ]
  }
 ],
 "metadata": {
  "kernelspec": {
   "display_name": "Python 3 (ipykernel)",
   "language": "python",
   "name": "python3"
  },
  "language_info": {
   "codemirror_mode": {
    "name": "ipython",
    "version": 3
   },
   "file_extension": ".py",
   "mimetype": "text/x-python",
   "name": "python",
   "nbconvert_exporter": "python",
   "pygments_lexer": "ipython3",
   "version": "3.11.1"
  }
 },
 "nbformat": 4,
 "nbformat_minor": 5
}
